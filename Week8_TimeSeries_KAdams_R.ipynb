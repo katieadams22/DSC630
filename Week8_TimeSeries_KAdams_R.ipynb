{
 "cells": [
  {
   "cell_type": "markdown",
   "id": "153b66c9",
   "metadata": {},
   "source": [
    "## You will be using the dataset us_retail_sales.csv for this assignment. This data gives the total monthly retail sales in the US from January 1992 until June 2021. With this dataset, complete the following steps:"
   ]
  },
  {
   "cell_type": "code",
   "execution_count": 4,
   "id": "7d9b9b22",
   "metadata": {},
   "outputs": [],
   "source": [
    "# Import csv file as dataframe\n",
    "sales <- read.csv(\"us_retail_sales.csv\")"
   ]
  },
  {
   "cell_type": "code",
   "execution_count": 22,
   "id": "0aca856a",
   "metadata": {},
   "outputs": [
    {
     "name": "stderr",
     "output_type": "stream",
     "text": [
      "Installing package into 'C:/Users/kadams/OneDrive - Suncor Energy Inc/Documents 1/R/win-library/3.6'\n",
      "(as 'lib' is unspecified)\n"
     ]
    },
    {
     "name": "stdout",
     "output_type": "stream",
     "text": [
      "\n",
      "  There is a binary version available but the source version is later:\n",
      "        binary source needs_compilation\n",
      "reshape  0.8.8  0.8.9              TRUE\n",
      "\n",
      "  Binaries will be installed\n"
     ]
    },
    {
     "name": "stderr",
     "output_type": "stream",
     "text": [
      "Warning message:\n",
      "\"package 'reshape' is in use and will not be installed\""
     ]
    }
   ],
   "source": [
    "# Import libraries\n",
    "library(readr)\n",
    "library(zoo)\n",
    "library(ggplot2)\n",
    "library(tidyverse)\n",
    "install.packages(\"reshape\")\n",
    "library(reshape)\n",
    "library(scales)"
   ]
  },
  {
   "cell_type": "code",
   "execution_count": 12,
   "id": "61ae800f",
   "metadata": {},
   "outputs": [],
   "source": [
    "# melting data to take a matrix and change it into a long dataframe\n",
    "sales.long<-melt(sales, id=\"YEAR\")"
   ]
  },
  {
   "cell_type": "code",
   "execution_count": 13,
   "id": "5dab27f1",
   "metadata": {},
   "outputs": [],
   "source": [
    "# taking uppercase months and matchig them to a format that R can understand\n",
    "sales.long$variable<-match(sales.long$variable, toupper(month.abb))"
   ]
  },
  {
   "cell_type": "markdown",
   "id": "4b17d789",
   "metadata": {},
   "source": [
    "### Plot the data with proper labeling and make some observations on the graph."
   ]
  },
  {
   "cell_type": "code",
   "execution_count": 30,
   "id": "e38b8446",
   "metadata": {},
   "outputs": [
    {
     "name": "stderr",
     "output_type": "stream",
     "text": [
      "`geom_smooth()` using method = 'loess' and formula 'y ~ x'\n",
      "Warning message:\n",
      "\"Removed 6 rows containing non-finite values (stat_smooth).\"Warning message:\n",
      "\"Removed 6 rows containing missing values (geom_point).\""
     ]
    },
    {
     "data": {
      "image/png": "[encoded data removed]",
      "text/plain": [
       "plot without title"
      ]
     },
     "metadata": {},
     "output_type": "display_data"
    }
   ],
   "source": [
    "# requires the scales library\n",
    "require(scales)\n",
    "# reformatted Y axis to get rid of scientific notation\n",
    "sales.long$Date <- as.yearmon(paste(sales.long$YEAR, sales.long$variable), \"%Y %m\")\n",
    "options(scipen=10000)\n",
    "# Create time series chart with smooth and points of data\n",
    "ggplot(sales.long, aes(x=Date, y=value)) + geom_smooth() + geom_point() + labs(title=\"Sales Over Time\", y=\"Sales\", x=\"Date\")"
   ]
  },
  {
   "cell_type": "markdown",
   "id": "52154391",
   "metadata": {},
   "source": [
    "### Observations: 2007-2009 there seems to be some deviation from the smooth line. After some googling, this was the time period of the Great Regression/Financial Mortgage crisis. And then, there is some devision from the blue line in 2020 which correlates to the COVID-19 pandemic. "
   ]
  },
  {
   "cell_type": "markdown",
   "id": "41a75882",
   "metadata": {},
   "source": [
    "### Split this data into a training and test set. Use the last year of data (July 2020 – June 2021) of data as your test set and the rest as your training set."
   ]
  },
  {
   "cell_type": "code",
   "execution_count": 15,
   "id": "62937138",
   "metadata": {},
   "outputs": [],
   "source": [
    "# Test Set\n",
    "test.sales<- sales.long %>% filter(Date >= \"July 2020\" & Date <= \"June 2021\" )\n",
    "# Train Set\n",
    "train.sales<- sales.long %>% filter(Date <= \"July 2020\" | Date >= \"June 2021\" )"
   ]
  },
  {
   "cell_type": "markdown",
   "id": "10224702",
   "metadata": {},
   "source": [
    "### Use the training set to build a predictive model for the monthly retail sales."
   ]
  },
  {
   "cell_type": "code",
   "execution_count": 19,
   "id": "43da042f",
   "metadata": {},
   "outputs": [
    {
     "data": {
      "text/plain": [
       "\n",
       "Call:\n",
       "lm(formula = value ~ Date, data = train.sales)\n",
       "\n",
       "Residuals:\n",
       "   Min     1Q Median     3Q    Max \n",
       "-68398  -4653   -518   7623  90178 \n",
       "\n",
       "Coefficients:\n",
       "                Estimate   Std. Error t value            Pr(>|t|)    \n",
       "(Intercept) -20874977.45    179136.88  -116.5 <0.0000000000000002 ***\n",
       "Date            10554.77        89.29   118.2 <0.0000000000000002 ***\n",
       "---\n",
       "Signif. codes:  0 '***' 0.001 '**' 0.01 '*' 0.05 '.' 0.1 ' ' 1\n",
       "\n",
       "Residual standard error: 13710 on 342 degrees of freedom\n",
       "  (6 observations deleted due to missingness)\n",
       "Multiple R-squared:  0.9761,\tAdjusted R-squared:  0.976 \n",
       "F-statistic: 1.397e+04 on 1 and 342 DF,  p-value: < 0.00000000000000022\n"
      ]
     },
     "metadata": {},
     "output_type": "display_data"
    }
   ],
   "source": [
    "# Using linear model to train the training set\n",
    "train.lm<-lm(value~Date, data=train.sales)\n",
    "summary(train.lm)"
   ]
  },
  {
   "cell_type": "markdown",
   "id": "b4c42048",
   "metadata": {},
   "source": [
    "### Use the model to predict the monthly retail sales on the last year of data."
   ]
  },
  {
   "cell_type": "code",
   "execution_count": 27,
   "id": "84c04273",
   "metadata": {},
   "outputs": [
    {
     "data": {
      "text/html": [
       "<dl class=dl-horizontal>\n",
       "\t<dt>1</dt>\n",
       "\t\t<dd>456206.156635523</dd>\n",
       "\t<dt>2</dt>\n",
       "\t\t<dd>457085.720531721</dd>\n",
       "\t<dt>3</dt>\n",
       "\t\t<dd>457965.284427918</dd>\n",
       "\t<dt>4</dt>\n",
       "\t\t<dd>458844.848324116</dd>\n",
       "\t<dt>5</dt>\n",
       "\t\t<dd>459724.412220314</dd>\n",
       "\t<dt>6</dt>\n",
       "\t\t<dd>460603.976116516</dd>\n",
       "\t<dt>7</dt>\n",
       "\t\t<dd>450928.773258332</dd>\n",
       "\t<dt>8</dt>\n",
       "\t\t<dd>451808.33715453</dd>\n",
       "\t<dt>9</dt>\n",
       "\t\t<dd>452687.901050728</dd>\n",
       "\t<dt>10</dt>\n",
       "\t\t<dd>453567.464946926</dd>\n",
       "\t<dt>11</dt>\n",
       "\t\t<dd>454447.028843123</dd>\n",
       "\t<dt>12</dt>\n",
       "\t\t<dd>455326.592739325</dd>\n",
       "</dl>\n"
      ],
      "text/latex": [
       "\\begin{description*}\n",
       "\\item[1] 456206.156635523\n",
       "\\item[2] 457085.720531721\n",
       "\\item[3] 457965.284427918\n",
       "\\item[4] 458844.848324116\n",
       "\\item[5] 459724.412220314\n",
       "\\item[6] 460603.976116516\n",
       "\\item[7] 450928.773258332\n",
       "\\item[8] 451808.33715453\n",
       "\\item[9] 452687.901050728\n",
       "\\item[10] 453567.464946926\n",
       "\\item[11] 454447.028843123\n",
       "\\item[12] 455326.592739325\n",
       "\\end{description*}\n"
      ],
      "text/markdown": [
       "1\n",
       ":   456206.1566355232\n",
       ":   457085.7205317213\n",
       ":   457965.2844279184\n",
       ":   458844.8483241165\n",
       ":   459724.4122203146\n",
       ":   460603.9761165167\n",
       ":   450928.7732583328\n",
       ":   451808.337154539\n",
       ":   452687.90105072810\n",
       ":   453567.46494692611\n",
       ":   454447.02884312312\n",
       ":   455326.592739325\n",
       "\n"
      ],
      "text/plain": [
       "       1        2        3        4        5        6        7        8 \n",
       "456206.2 457085.7 457965.3 458844.8 459724.4 460604.0 450928.8 451808.3 \n",
       "       9       10       11       12 \n",
       "452687.9 453567.5 454447.0 455326.6 "
      ]
     },
     "metadata": {},
     "output_type": "display_data"
    }
   ],
   "source": [
    "# Use predict to predict the monthly retail sales on the last year of data using the linear model with training data and the test set\n",
    "predict(train.lm, test.sales)\n",
    "## The values below represent the predict monthly retail sales for July 2020 – June 2021\n"
   ]
  },
  {
   "cell_type": "markdown",
   "id": "9151dc7a",
   "metadata": {},
   "source": [
    "### Report the RMSE of the model predictions on the test set."
   ]
  },
  {
   "cell_type": "code",
   "execution_count": 18,
   "id": "15edcea7",
   "metadata": {},
   "outputs": [
    {
     "data": {
      "text/html": [
       "59426.5005445556"
      ],
      "text/latex": [
       "59426.5005445556"
      ],
      "text/markdown": [
       "59426.5005445556"
      ],
      "text/plain": [
       "[1] 59426.5"
      ]
     },
     "metadata": {},
     "output_type": "display_data"
    }
   ],
   "source": [
    "# Make a variable for the coding used above (test.sales$predicted)\n",
    "test.sales$predicted<-predict(train.lm, test.sales)\n",
    "# Find the RMSE which is the square root of the mean of test sales value minus the predict test sales values\n",
    "sqrt(mean((test.sales$value-test.sales$predicted)^2))"
   ]
  },
  {
   "cell_type": "markdown",
   "id": "f35bf2aa",
   "metadata": {},
   "source": [
    "### The RMSE is an indication of how close the predictions are to the actual values. It is the standard deviation of the residuals. "
   ]
  },
  {
   "cell_type": "code",
   "execution_count": 29,
   "id": "be0071e8",
   "metadata": {},
   "outputs": [
    {
     "data": {
      "text/html": [
       "32231.2191187176"
      ],
      "text/latex": [
       "32231.2191187176"
      ],
      "text/markdown": [
       "32231.2191187176"
      ],
      "text/plain": [
       "[1] 32231.22"
      ]
     },
     "metadata": {},
     "output_type": "display_data"
    }
   ],
   "source": [
    "sd(test.sales$value)"
   ]
  },
  {
   "cell_type": "code",
   "execution_count": null,
   "id": "8a1c6e1c",
   "metadata": {},
   "outputs": [],
   "source": []
  }
 ],
 "metadata": {
  "kernelspec": {
   "display_name": "R",
   "language": "R",
   "name": "ir"
  },
  "language_info": {
   "codemirror_mode": "r",
   "file_extension": ".r",
   "mimetype": "text/x-r-source",
   "name": "R",
   "pygments_lexer": "r",
   "version": "3.6.1"
  }
 },
 "nbformat": 4,
 "nbformat_minor": 5
}
