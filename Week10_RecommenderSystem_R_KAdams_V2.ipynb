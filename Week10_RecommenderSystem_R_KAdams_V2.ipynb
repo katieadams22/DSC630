{
 "cells": [
  {
   "cell_type": "markdown",
   "id": "b8309d45",
   "metadata": {},
   "source": [
    "## Using the small MovieLens data set, create a recommender system that allows users to input a movie they like (in the data set) and recommends ten other movies for them to watch. In your write-up, clearly explain the recommender system process and all steps performed. If you are using a method found online, be sure to reference the source."
   ]
  },
  {
   "cell_type": "code",
   "execution_count": 1,
   "id": "cf926289",
   "metadata": {},
   "outputs": [
    {
     "name": "stderr",
     "output_type": "stream",
     "text": [
      "Warning message:\n",
      "\"package 'readr' was built under R version 3.6.3\"Warning message:\n",
      "\"package 'data.table' was built under R version 3.6.3\"Warning message:\n",
      "\"package 'reshape2' was built under R version 3.6.3\"\n",
      "Attaching package: 'reshape2'\n",
      "\n",
      "The following objects are masked from 'package:data.table':\n",
      "\n",
      "    dcast, melt\n",
      "\n",
      "Warning message:\n",
      "\"package 'recommenderlab' was built under R version 3.6.3\"Loading required package: Matrix\n",
      "Warning message:\n",
      "\"package 'Matrix' was built under R version 3.6.3\"Loading required package: arules\n",
      "\n",
      "Attaching package: 'arules'\n",
      "\n",
      "The following objects are masked from 'package:base':\n",
      "\n",
      "    abbreviate, write\n",
      "\n",
      "Loading required package: proxy\n",
      "Warning message:\n",
      "\"package 'proxy' was built under R version 3.6.3\"\n",
      "Attaching package: 'proxy'\n",
      "\n",
      "The following object is masked from 'package:Matrix':\n",
      "\n",
      "    as.matrix\n",
      "\n",
      "The following objects are masked from 'package:stats':\n",
      "\n",
      "    as.dist, dist\n",
      "\n",
      "The following object is masked from 'package:base':\n",
      "\n",
      "    as.matrix\n",
      "\n",
      "Loading required package: registry\n",
      "Registered S3 methods overwritten by 'registry':\n",
      "  method               from \n",
      "  print.registry_field proxy\n",
      "  print.registry_entry proxy\n"
     ]
    }
   ],
   "source": [
    "# Import Libraries\n",
    "library(readr)\n",
    "library(ggplot2)\n",
    "library(data.table)\n",
    "library(reshape2)\n",
    "library(\"recommenderlab\")\n",
    "library(\"arules\")"
   ]
  },
  {
   "cell_type": "code",
   "execution_count": 2,
   "id": "f78fc689",
   "metadata": {},
   "outputs": [
    {
     "name": "stderr",
     "output_type": "stream",
     "text": [
      "\n",
      "-- Column specification --------------------------------------------------------\n",
      "cols(\n",
      "  userId = col_double(),\n",
      "  movieId = col_double(),\n",
      "  rating = col_double(),\n",
      "  timestamp = col_double()\n",
      ")\n",
      "\n",
      "\n",
      "-- Column specification --------------------------------------------------------\n",
      "cols(\n",
      "  movieId = col_double(),\n",
      "  title = col_character(),\n",
      "  genres = col_character()\n",
      ")\n",
      "\n"
     ]
    }
   ],
   "source": [
    "# Import the CSV datasets\n",
    "ratings_data <- read_csv(\"C:/Users/kadams/Downloads/DSC 630/ratings.csv\")\n",
    "movie_data <- read_csv(\"C:/Users/kadams/Downloads/DSC 630/movies.csv\")"
   ]
  },
  {
   "cell_type": "code",
   "execution_count": 3,
   "id": "8a6b16e5",
   "metadata": {},
   "outputs": [],
   "source": [
    "# Convert the genres present in the movie_data dataframe into a more usable format by the users.\n",
    "movie_genre <- as.data.frame(movie_data$genres, stringsAsFactors=FALSE)\n",
    "movie_genre2 <- as.data.frame(tstrsplit(movie_genre[,1], '[|]', type.convert=TRUE), stringsAsFactors=FALSE)\n",
    "colnames(movie_genre2) <- c(1:10)\n",
    "\n",
    "list_genre <- c(\"Action\", \"Adventure\", \"Animation\", \"Children\", \"Comedy\", \"Crime\",\"Documentary\", \"Drama\", \"Fantasy\", \"Film-Noir\", \"Horror\", \"Musical\", \"Mystery\",\"Romance\", \"Sci-Fi\", \"Thriller\", \"War\", \"Western\")\n",
    "genre_mat1 <- matrix(0,nrow(movie_genre)+1,18)\n",
    "genre_mat1[1,] <- list_genre\n",
    "colnames(genre_mat1) <- list_genre\n",
    "for (index in 1:nrow(movie_genre2)) {\n",
    "  for (col in 1:ncol(movie_genre2)) {\n",
    "    gen_col = which(genre_mat1[1,] == movie_genre2[index,col]) \n",
    "    genre_mat1[index+1,gen_col] <- 1\n",
    "}\n",
    "}\n",
    "genre_mat2 <- as.data.frame(genre_mat1[-1,], stringsAsFactors=FALSE) \n",
    "for (col in 1:ncol(genre_mat2)) {\n",
    "  genre_mat2[,col] <- as.integer(genre_mat2[,col]) #convert from characters to integers\n",
    "} "
   ]
  },
  {
   "cell_type": "code",
   "execution_count": 4,
   "id": "b8b30b80",
   "metadata": {},
   "outputs": [],
   "source": [
    "# Create a \"search matrix\" to allow easy search of the films by specifying the genre in the list\n",
    "SearchMatrix <- cbind(movie_data[,1:2], genre_mat2[])"
   ]
  },
  {
   "cell_type": "code",
   "execution_count": 5,
   "id": "6d624acc",
   "metadata": {},
   "outputs": [],
   "source": [
    "# Covert matrix into a sparse matrix\n",
    "ratingMatrix <- dcast(ratings_data, userId~movieId, value.var = \"rating\", na.rm=FALSE)\n",
    "ratingMatrix <- as.matrix(ratingMatrix[,-1])\n",
    "ratingMatrix <- as(ratingMatrix, \"realRatingMatrix\")"
   ]
  },
  {
   "cell_type": "code",
   "execution_count": 6,
   "id": "c8d63d71",
   "metadata": {},
   "outputs": [],
   "source": [
    "recommendation_model <- recommenderRegistry$get_entries(dataType = \"realRatingMatrix\")"
   ]
  },
  {
   "cell_type": "code",
   "execution_count": 7,
   "id": "ee3230d9",
   "metadata": {},
   "outputs": [
    {
     "data": {
      "text/html": [
       "<dl>\n",
       "\t<dt>$HYBRID_realRatingMatrix</dt>\n",
       "\t\t<dd>'Hybrid recommender that aggegates several recommendation strategies using weighted averages.'</dd>\n",
       "\t<dt>$ALS_realRatingMatrix</dt>\n",
       "\t\t<dd>'Recommender for explicit ratings based on latent factors, calculated by alternating least squares algorithm.'</dd>\n",
       "\t<dt>$ALS_implicit_realRatingMatrix</dt>\n",
       "\t\t<dd>'Recommender for implicit data based on latent factors, calculated by alternating least squares algorithm.'</dd>\n",
       "\t<dt>$IBCF_realRatingMatrix</dt>\n",
       "\t\t<dd>'Recommender based on item-based collaborative filtering.'</dd>\n",
       "\t<dt>$LIBMF_realRatingMatrix</dt>\n",
       "\t\t<dd>'Matrix factorization with LIBMF via package recosystem (https://cran.r-project.org/web/packages/recosystem/vignettes/introduction.html).'</dd>\n",
       "\t<dt>$POPULAR_realRatingMatrix</dt>\n",
       "\t\t<dd>'Recommender based on item popularity.'</dd>\n",
       "\t<dt>$RANDOM_realRatingMatrix</dt>\n",
       "\t\t<dd>'Produce random recommendations (real ratings).'</dd>\n",
       "\t<dt>$RERECOMMEND_realRatingMatrix</dt>\n",
       "\t\t<dd>'Re-recommends highly rated items (real ratings).'</dd>\n",
       "\t<dt>$SVD_realRatingMatrix</dt>\n",
       "\t\t<dd>'Recommender based on SVD approximation with column-mean imputation.'</dd>\n",
       "\t<dt>$SVDF_realRatingMatrix</dt>\n",
       "\t\t<dd>'Recommender based on Funk SVD with gradient descend (https://sifter.org/~simon/journal/20061211.html).'</dd>\n",
       "\t<dt>$UBCF_realRatingMatrix</dt>\n",
       "\t\t<dd>'Recommender based on user-based collaborative filtering.'</dd>\n",
       "</dl>\n"
      ],
      "text/latex": [
       "\\begin{description}\n",
       "\\item[\\$HYBRID\\_realRatingMatrix] 'Hybrid recommender that aggegates several recommendation strategies using weighted averages.'\n",
       "\\item[\\$ALS\\_realRatingMatrix] 'Recommender for explicit ratings based on latent factors, calculated by alternating least squares algorithm.'\n",
       "\\item[\\$ALS\\_implicit\\_realRatingMatrix] 'Recommender for implicit data based on latent factors, calculated by alternating least squares algorithm.'\n",
       "\\item[\\$IBCF\\_realRatingMatrix] 'Recommender based on item-based collaborative filtering.'\n",
       "\\item[\\$LIBMF\\_realRatingMatrix] 'Matrix factorization with LIBMF via package recosystem (https://cran.r-project.org/web/packages/recosystem/vignettes/introduction.html).'\n",
       "\\item[\\$POPULAR\\_realRatingMatrix] 'Recommender based on item popularity.'\n",
       "\\item[\\$RANDOM\\_realRatingMatrix] 'Produce random recommendations (real ratings).'\n",
       "\\item[\\$RERECOMMEND\\_realRatingMatrix] 'Re-recommends highly rated items (real ratings).'\n",
       "\\item[\\$SVD\\_realRatingMatrix] 'Recommender based on SVD approximation with column-mean imputation.'\n",
       "\\item[\\$SVDF\\_realRatingMatrix] 'Recommender based on Funk SVD with gradient descend (https://sifter.org/\\textasciitilde{}simon/journal/20061211.html).'\n",
       "\\item[\\$UBCF\\_realRatingMatrix] 'Recommender based on user-based collaborative filtering.'\n",
       "\\end{description}\n"
      ],
      "text/markdown": [
       "$HYBRID_realRatingMatrix\n",
       ":   'Hybrid recommender that aggegates several recommendation strategies using weighted averages.'\n",
       "$ALS_realRatingMatrix\n",
       ":   'Recommender for explicit ratings based on latent factors, calculated by alternating least squares algorithm.'\n",
       "$ALS_implicit_realRatingMatrix\n",
       ":   'Recommender for implicit data based on latent factors, calculated by alternating least squares algorithm.'\n",
       "$IBCF_realRatingMatrix\n",
       ":   'Recommender based on item-based collaborative filtering.'\n",
       "$LIBMF_realRatingMatrix\n",
       ":   'Matrix factorization with LIBMF via package recosystem (https://cran.r-project.org/web/packages/recosystem/vignettes/introduction.html).'\n",
       "$POPULAR_realRatingMatrix\n",
       ":   'Recommender based on item popularity.'\n",
       "$RANDOM_realRatingMatrix\n",
       ":   'Produce random recommendations (real ratings).'\n",
       "$RERECOMMEND_realRatingMatrix\n",
       ":   'Re-recommends highly rated items (real ratings).'\n",
       "$SVD_realRatingMatrix\n",
       ":   'Recommender based on SVD approximation with column-mean imputation.'\n",
       "$SVDF_realRatingMatrix\n",
       ":   'Recommender based on Funk SVD with gradient descend (https://sifter.org/~simon/journal/20061211.html).'\n",
       "$UBCF_realRatingMatrix\n",
       ":   'Recommender based on user-based collaborative filtering.'\n",
       "\n",
       "\n"
      ],
      "text/plain": [
       "$HYBRID_realRatingMatrix\n",
       "[1] \"Hybrid recommender that aggegates several recommendation strategies using weighted averages.\"\n",
       "\n",
       "$ALS_realRatingMatrix\n",
       "[1] \"Recommender for explicit ratings based on latent factors, calculated by alternating least squares algorithm.\"\n",
       "\n",
       "$ALS_implicit_realRatingMatrix\n",
       "[1] \"Recommender for implicit data based on latent factors, calculated by alternating least squares algorithm.\"\n",
       "\n",
       "$IBCF_realRatingMatrix\n",
       "[1] \"Recommender based on item-based collaborative filtering.\"\n",
       "\n",
       "$LIBMF_realRatingMatrix\n",
       "[1] \"Matrix factorization with LIBMF via package recosystem (https://cran.r-project.org/web/packages/recosystem/vignettes/introduction.html).\"\n",
       "\n",
       "$POPULAR_realRatingMatrix\n",
       "[1] \"Recommender based on item popularity.\"\n",
       "\n",
       "$RANDOM_realRatingMatrix\n",
       "[1] \"Produce random recommendations (real ratings).\"\n",
       "\n",
       "$RERECOMMEND_realRatingMatrix\n",
       "[1] \"Re-recommends highly rated items (real ratings).\"\n",
       "\n",
       "$SVD_realRatingMatrix\n",
       "[1] \"Recommender based on SVD approximation with column-mean imputation.\"\n",
       "\n",
       "$SVDF_realRatingMatrix\n",
       "[1] \"Recommender based on Funk SVD with gradient descend (https://sifter.org/~simon/journal/20061211.html).\"\n",
       "\n",
       "$UBCF_realRatingMatrix\n",
       "[1] \"Recommender based on user-based collaborative filtering.\"\n"
      ]
     },
     "metadata": {},
     "output_type": "display_data"
    }
   ],
   "source": [
    "lapply(recommendation_model, \"[[\", \"description\")"
   ]
  },
  {
   "cell_type": "code",
   "execution_count": 8,
   "id": "51337005",
   "metadata": {},
   "outputs": [
    {
     "data": {
      "text/html": [
       "<dl>\n",
       "\t<dt>$k</dt>\n",
       "\t\t<dd>30</dd>\n",
       "\t<dt>$method</dt>\n",
       "\t\t<dd>'Cosine'</dd>\n",
       "\t<dt>$normalize</dt>\n",
       "\t\t<dd>'center'</dd>\n",
       "\t<dt>$normalize_sim_matrix</dt>\n",
       "\t\t<dd>FALSE</dd>\n",
       "\t<dt>$alpha</dt>\n",
       "\t\t<dd>0.5</dd>\n",
       "\t<dt>$na_as_zero</dt>\n",
       "\t\t<dd>FALSE</dd>\n",
       "</dl>\n"
      ],
      "text/latex": [
       "\\begin{description}\n",
       "\\item[\\$k] 30\n",
       "\\item[\\$method] 'Cosine'\n",
       "\\item[\\$normalize] 'center'\n",
       "\\item[\\$normalize\\_sim\\_matrix] FALSE\n",
       "\\item[\\$alpha] 0.5\n",
       "\\item[\\$na\\_as\\_zero] FALSE\n",
       "\\end{description}\n"
      ],
      "text/markdown": [
       "$k\n",
       ":   30\n",
       "$method\n",
       ":   'Cosine'\n",
       "$normalize\n",
       ":   'center'\n",
       "$normalize_sim_matrix\n",
       ":   FALSE\n",
       "$alpha\n",
       ":   0.5\n",
       "$na_as_zero\n",
       ":   FALSE\n",
       "\n",
       "\n"
      ],
      "text/plain": [
       "$k\n",
       "[1] 30\n",
       "\n",
       "$method\n",
       "[1] \"Cosine\"\n",
       "\n",
       "$normalize\n",
       "[1] \"center\"\n",
       "\n",
       "$normalize_sim_matrix\n",
       "[1] FALSE\n",
       "\n",
       "$alpha\n",
       "[1] 0.5\n",
       "\n",
       "$na_as_zero\n",
       "[1] FALSE\n"
      ]
     },
     "metadata": {},
     "output_type": "display_data"
    }
   ],
   "source": [
    "recommendation_model$IBCF_realRatingMatrix$parameters"
   ]
  },
  {
   "cell_type": "code",
   "execution_count": 9,
   "id": "20c429c0",
   "metadata": {
    "scrolled": true
   },
   "outputs": [
    {
     "data": {
      "text/html": [
       "<table>\n",
       "<thead><tr><th scope=col>1</th><th scope=col>2</th><th scope=col>3</th><th scope=col>4</th></tr></thead>\n",
       "<tbody>\n",
       "\t<tr><td>0.0000000</td><td> 1       </td><td>0.7919033</td><td>0.9328096</td></tr>\n",
       "\t<tr><td>1.0000000</td><td> 0       </td><td>       NA</td><td>1.0000000</td></tr>\n",
       "\t<tr><td>0.7919033</td><td>NA       </td><td>0.0000000</td><td>1.0000000</td></tr>\n",
       "\t<tr><td>0.9328096</td><td> 1       </td><td>1.0000000</td><td>0.0000000</td></tr>\n",
       "</tbody>\n",
       "</table>\n"
      ],
      "text/latex": [
       "\\begin{tabular}{r|llll}\n",
       " 1 & 2 & 3 & 4\\\\\n",
       "\\hline\n",
       "\t 0.0000000 &  1        & 0.7919033 & 0.9328096\\\\\n",
       "\t 1.0000000 &  0        &        NA & 1.0000000\\\\\n",
       "\t 0.7919033 & NA        & 0.0000000 & 1.0000000\\\\\n",
       "\t 0.9328096 &  1        & 1.0000000 & 0.0000000\\\\\n",
       "\\end{tabular}\n"
      ],
      "text/markdown": [
       "\n",
       "| 1 | 2 | 3 | 4 |\n",
       "|---|---|---|---|\n",
       "| 0.0000000 |  1        | 0.7919033 | 0.9328096 |\n",
       "| 1.0000000 |  0        |        NA | 1.0000000 |\n",
       "| 0.7919033 | NA        | 0.0000000 | 1.0000000 |\n",
       "| 0.9328096 |  1        | 1.0000000 | 0.0000000 |\n",
       "\n"
      ],
      "text/plain": [
       "  1         2  3         4        \n",
       "1 0.0000000  1 0.7919033 0.9328096\n",
       "2 1.0000000  0        NA 1.0000000\n",
       "3 0.7919033 NA 0.0000000 1.0000000\n",
       "4 0.9328096  1 1.0000000 0.0000000"
      ]
     },
     "metadata": {},
     "output_type": "display_data"
    },
    {
     "data": {
      "image/png": "[encoded data removed]",
      "text/plain": [
       "Plot with title \"User's Similarities\""
      ]
     },
     "metadata": {},
     "output_type": "display_data"
    }
   ],
   "source": [
    "# Compute the similarities using various operators like cosine, person and jaccard\n",
    "similarity_mat <- similarity(ratingMatrix[1:4, ],method = \"cosine\",which = \"users\")\n",
    "as.matrix(similarity_mat)\n",
    "image(as.matrix(similarity_mat), main = \"User's Similarities\")"
   ]
  },
  {
   "cell_type": "code",
   "execution_count": 10,
   "id": "8c1f62a3",
   "metadata": {},
   "outputs": [
    {
     "data": {
      "text/html": [
       "<table>\n",
       "<thead><tr><th scope=col>1</th><th scope=col>2</th><th scope=col>3</th><th scope=col>4</th></tr></thead>\n",
       "<tbody>\n",
       "\t<tr><td>0.0000000</td><td>0.9644641</td><td>0.9715415</td><td>0.9838699</td></tr>\n",
       "\t<tr><td>0.9644641</td><td>0.0000000</td><td>0.9389013</td><td>0.9609877</td></tr>\n",
       "\t<tr><td>0.9715415</td><td>0.9389013</td><td>0.0000000</td><td>1.0000000</td></tr>\n",
       "\t<tr><td>0.9838699</td><td>0.9609877</td><td>1.0000000</td><td>0.0000000</td></tr>\n",
       "</tbody>\n",
       "</table>\n"
      ],
      "text/latex": [
       "\\begin{tabular}{r|llll}\n",
       " 1 & 2 & 3 & 4\\\\\n",
       "\\hline\n",
       "\t 0.0000000 & 0.9644641 & 0.9715415 & 0.9838699\\\\\n",
       "\t 0.9644641 & 0.0000000 & 0.9389013 & 0.9609877\\\\\n",
       "\t 0.9715415 & 0.9389013 & 0.0000000 & 1.0000000\\\\\n",
       "\t 0.9838699 & 0.9609877 & 1.0000000 & 0.0000000\\\\\n",
       "\\end{tabular}\n"
      ],
      "text/markdown": [
       "\n",
       "| 1 | 2 | 3 | 4 |\n",
       "|---|---|---|---|\n",
       "| 0.0000000 | 0.9644641 | 0.9715415 | 0.9838699 |\n",
       "| 0.9644641 | 0.0000000 | 0.9389013 | 0.9609877 |\n",
       "| 0.9715415 | 0.9389013 | 0.0000000 | 1.0000000 |\n",
       "| 0.9838699 | 0.9609877 | 1.0000000 | 0.0000000 |\n",
       "\n"
      ],
      "text/plain": [
       "  1         2         3         4        \n",
       "1 0.0000000 0.9644641 0.9715415 0.9838699\n",
       "2 0.9644641 0.0000000 0.9389013 0.9609877\n",
       "3 0.9715415 0.9389013 0.0000000 1.0000000\n",
       "4 0.9838699 0.9609877 1.0000000 0.0000000"
      ]
     },
     "metadata": {},
     "output_type": "display_data"
    },
    {
     "data": {
      "image/png": "[encoded data removed]",
      "text/plain": [
       "Plot with title \"Movies similarity\""
      ]
     },
     "metadata": {},
     "output_type": "display_data"
    }
   ],
   "source": [
    "# Delineate the similariy that is shared between the films\n",
    "movie_similarity <- similarity(ratingMatrix[, 1:4], method =\"cosine\", which = \"items\")\n",
    "as.matrix(movie_similarity)\n",
    "image(as.matrix(movie_similarity), main = \"Movies similarity\")"
   ]
  },
  {
   "cell_type": "code",
   "execution_count": 11,
   "id": "e6e687c6",
   "metadata": {},
   "outputs": [],
   "source": [
    "# Extract the most unique ratings\n",
    "rating_values <- as.vector(ratingMatrix@data)"
   ]
  },
  {
   "cell_type": "code",
   "execution_count": 12,
   "id": "ca179f92",
   "metadata": {},
   "outputs": [],
   "source": [
    "# Create a table of ratings that will display the most unique ratings\n",
    "Table_of_Ratings <- table(rating_values) "
   ]
  },
  {
   "cell_type": "code",
   "execution_count": 13,
   "id": "5eacef55",
   "metadata": {},
   "outputs": [
    {
     "data": {
      "text/html": [
       "<table>\n",
       "<thead><tr><th></th><th scope=col>movie</th><th scope=col>views</th><th scope=col>title</th></tr></thead>\n",
       "<tbody>\n",
       "\t<tr><th scope=row>356</th><td>356                                      </td><td>329                                      </td><td>Forrest Gump (1994)                      </td></tr>\n",
       "\t<tr><th scope=row>318</th><td>318                                      </td><td>317                                      </td><td>Shawshank Redemption, The (1994)         </td></tr>\n",
       "\t<tr><th scope=row>296</th><td>296                                      </td><td>307                                      </td><td>Pulp Fiction (1994)                      </td></tr>\n",
       "\t<tr><th scope=row>593</th><td>593                                      </td><td>279                                      </td><td>Silence of the Lambs, The (1991)         </td></tr>\n",
       "\t<tr><th scope=row>2571</th><td>2571                                     </td><td>278                                      </td><td>Matrix, The (1999)                       </td></tr>\n",
       "\t<tr><th scope=row>260</th><td>260                                      </td><td>251                                      </td><td>Star Wars: Episode IV - A New Hope (1977)</td></tr>\n",
       "</tbody>\n",
       "</table>\n"
      ],
      "text/latex": [
       "\\begin{tabular}{r|lll}\n",
       "  & movie & views & title\\\\\n",
       "\\hline\n",
       "\t356 & 356                                       & 329                                       & Forrest Gump (1994)                      \\\\\n",
       "\t318 & 318                                       & 317                                       & Shawshank Redemption, The (1994)         \\\\\n",
       "\t296 & 296                                       & 307                                       & Pulp Fiction (1994)                      \\\\\n",
       "\t593 & 593                                       & 279                                       & Silence of the Lambs, The (1991)         \\\\\n",
       "\t2571 & 2571                                      & 278                                       & Matrix, The (1999)                       \\\\\n",
       "\t260 & 260                                       & 251                                       & Star Wars: Episode IV - A New Hope (1977)\\\\\n",
       "\\end{tabular}\n"
      ],
      "text/markdown": [
       "\n",
       "| <!--/--> | movie | views | title |\n",
       "|---|---|---|---|\n",
       "| 356 | 356                                       | 329                                       | Forrest Gump (1994)                       |\n",
       "| 318 | 318                                       | 317                                       | Shawshank Redemption, The (1994)          |\n",
       "| 296 | 296                                       | 307                                       | Pulp Fiction (1994)                       |\n",
       "| 593 | 593                                       | 279                                       | Silence of the Lambs, The (1991)          |\n",
       "| 2571 | 2571                                      | 278                                       | Matrix, The (1999)                        |\n",
       "| 260 | 260                                       | 251                                       | Star Wars: Episode IV - A New Hope (1977) |\n",
       "\n"
      ],
      "text/plain": [
       "     movie views title                                    \n",
       "356  356   329   Forrest Gump (1994)                      \n",
       "318  318   317   Shawshank Redemption, The (1994)         \n",
       "296  296   307   Pulp Fiction (1994)                      \n",
       "593  593   279   Silence of the Lambs, The (1991)         \n",
       "2571 2571  278   Matrix, The (1999)                       \n",
       "260  260   251   Star Wars: Episode IV - A New Hope (1977)"
      ]
     },
     "metadata": {},
     "output_type": "display_data"
    }
   ],
   "source": [
    "# Count the number of views in a film and then organize them in a table that would group them in descending order\n",
    "movie_views <- colCounts(ratingMatrix) # count views for each movie\n",
    "table_views <- data.frame(movie = names(movie_views), views = movie_views) # create dataframe of views\n",
    "table_views <- table_views[order(table_views$views, decreasing = TRUE), ] # sort by number of views\n",
    "table_views$title <- NA\n",
    "for (index in 1:nrow(table_views)){\n",
    "  table_views[index,3] <- as.character(subset(movie_data, movie_data$movieId == table_views[index,1])$title)\n",
    "}\n",
    "table_views[1:6,]"
   ]
  },
  {
   "cell_type": "code",
   "execution_count": 14,
   "id": "7bc02fb5",
   "metadata": {},
   "outputs": [
    {
     "data": {
      "image/png": "[encoded data removed]",
      "text/plain": [
       "plot without title"
      ]
     },
     "metadata": {},
     "output_type": "display_data"
    }
   ],
   "source": [
    "# Visualize a bar plot of the total number of views of the top films using ggplot\n",
    "ggplot(table_views[1:6, ], aes(x = title, y = views)) +\n",
    "  geom_bar(stat=\"identity\", fill = 'steelblue') +\n",
    "  geom_text(aes(label=views), vjust=-0.3, size=3.5) +\n",
    "  theme(axis.text.x = element_text(angle = 45, hjust = 1)) +\n",
    "  ggtitle(\"Total Views of the Top Films\")"
   ]
  },
  {
   "cell_type": "code",
   "execution_count": 15,
   "id": "f31d8dd5",
   "metadata": {},
   "outputs": [
    {
     "data": {
      "image/png": "[encoded data removed]",
      "text/plain": [
       "plot without title"
      ]
     },
     "metadata": {},
     "output_type": "display_data"
    }
   ],
   "source": [
    "# Visualize a heatmap (25 x 25) of the movie ratings\n",
    "image(ratingMatrix[1:20, 1:25], axes = FALSE, main = \"Heatmap of the first 25 rows and 25 columns\")"
   ]
  },
  {
   "cell_type": "code",
   "execution_count": 16,
   "id": "f5bb25b5",
   "metadata": {},
   "outputs": [],
   "source": [
    "# Set the threshold for the minimum number of users who have rated a film as 50\n",
    "movie_ratings <- ratingMatrix[rowCounts(ratingMatrix) > 50, colCounts(ratingMatrix) > 50]"
   ]
  },
  {
   "cell_type": "code",
   "execution_count": 17,
   "id": "8bd685a5",
   "metadata": {
    "scrolled": true
   },
   "outputs": [
    {
     "data": {
      "image/png": "[encoded data removed]",
      "text/plain": [
       "plot without title"
      ]
     },
     "metadata": {},
     "output_type": "display_data"
    }
   ],
   "source": [
    "# Delinate our matrix of relevant users\n",
    "minimum_movies<- quantile(rowCounts(movie_ratings), 0.98)\n",
    "minimum_users <- quantile(colCounts(movie_ratings), 0.98)\n",
    "image(movie_ratings[rowCounts(movie_ratings) > minimum_movies, colCounts(movie_ratings) > minimum_users], main = \"Heatmap of the top users and movies\")"
   ]
  },
  {
   "cell_type": "code",
   "execution_count": 18,
   "id": "6da20f3f",
   "metadata": {},
   "outputs": [
    {
     "name": "stderr",
     "output_type": "stream",
     "text": [
      "`stat_bin()` using `bins = 30`. Pick better value with `binwidth`.\n"
     ]
    },
    {
     "data": {
      "image/png": "[encoded data removed]",
      "text/plain": [
       "plot without title"
      ]
     },
     "metadata": {},
     "output_type": "display_data"
    }
   ],
   "source": [
    "# Visualize the distribution of the average ratings per user\n",
    "average_ratings <- rowMeans(movie_ratings)\n",
    "qplot(average_ratings, fill=I(\"steelblue\"), col=I(\"red\")) + ggtitle(\"Distribution of the average rating per user\")"
   ]
  },
  {
   "cell_type": "code",
   "execution_count": 19,
   "id": "ee549687",
   "metadata": {},
   "outputs": [
    {
     "data": {
      "text/html": [
       "0"
      ],
      "text/latex": [
       "0"
      ],
      "text/markdown": [
       "0"
      ],
      "text/plain": [
       "[1] 0"
      ]
     },
     "metadata": {},
     "output_type": "display_data"
    },
    {
     "data": {
      "image/png": "[encoded data removed]",
      "text/plain": [
       "plot without title"
      ]
     },
     "metadata": {},
     "output_type": "display_data"
    }
   ],
   "source": [
    "# Normalize the average values of the ratings column to 0\n",
    "normalized_ratings <- normalize(movie_ratings)\n",
    "sum(rowMeans(normalized_ratings) > 0.00001)\n",
    "image(normalized_ratings[rowCounts(normalized_ratings) > minimum_movies, colCounts(normalized_ratings) > minimum_users],main = \"Normalized Ratings of the Top Users\")\n",
    "binary_minimum_movies <- quantile(rowCounts(movie_ratings), 0.95)\n",
    "binary_minimum_users <- quantile(colCounts(movie_ratings), 0.95)"
   ]
  },
  {
   "cell_type": "code",
   "execution_count": 20,
   "id": "c0b73c8a",
   "metadata": {},
   "outputs": [
    {
     "data": {
      "image/png": "[encoded data removed]",
      "text/plain": [
       "plot without title"
      ]
     },
     "metadata": {},
     "output_type": "display_data"
    }
   ],
   "source": [
    "# Binarize the data by defining a matrix: movies_watched <- binarize(movie_ratings, minRating = 1)\n",
    "good_rated_films <- binarize(movie_ratings, minRating = 3)\n",
    "image(good_rated_films[rowCounts(movie_ratings) > binary_minimum_movies,\n",
    "colCounts(movie_ratings) > binary_minimum_users], main = \"Heatmap of the top users and movies\")\n"
   ]
  },
  {
   "cell_type": "code",
   "execution_count": 21,
   "id": "dfe06981",
   "metadata": {},
   "outputs": [],
   "source": [
    "# Build filtering system by splitting the dataset into 80% Training and 20% Testing\n",
    "sampled_data<- sample(x = c(TRUE, FALSE), size = nrow(movie_ratings), replace = TRUE, prob = c(0.8, 0.2))\n",
    "training_data <- movie_ratings[sampled_data, ]\n",
    "testing_data <- movie_ratings[!sampled_data, ]\n"
   ]
  },
  {
   "cell_type": "code",
   "execution_count": 22,
   "id": "0716c668",
   "metadata": {},
   "outputs": [
    {
     "data": {
      "text/html": [
       "<dl>\n",
       "\t<dt>$k</dt>\n",
       "\t\t<dd>30</dd>\n",
       "\t<dt>$method</dt>\n",
       "\t\t<dd>'Cosine'</dd>\n",
       "\t<dt>$normalize</dt>\n",
       "\t\t<dd>'center'</dd>\n",
       "\t<dt>$normalize_sim_matrix</dt>\n",
       "\t\t<dd>FALSE</dd>\n",
       "\t<dt>$alpha</dt>\n",
       "\t\t<dd>0.5</dd>\n",
       "\t<dt>$na_as_zero</dt>\n",
       "\t\t<dd>FALSE</dd>\n",
       "</dl>\n"
      ],
      "text/latex": [
       "\\begin{description}\n",
       "\\item[\\$k] 30\n",
       "\\item[\\$method] 'Cosine'\n",
       "\\item[\\$normalize] 'center'\n",
       "\\item[\\$normalize\\_sim\\_matrix] FALSE\n",
       "\\item[\\$alpha] 0.5\n",
       "\\item[\\$na\\_as\\_zero] FALSE\n",
       "\\end{description}\n"
      ],
      "text/markdown": [
       "$k\n",
       ":   30\n",
       "$method\n",
       ":   'Cosine'\n",
       "$normalize\n",
       ":   'center'\n",
       "$normalize_sim_matrix\n",
       ":   FALSE\n",
       "$alpha\n",
       ":   0.5\n",
       "$na_as_zero\n",
       ":   FALSE\n",
       "\n",
       "\n"
      ],
      "text/plain": [
       "$k\n",
       "[1] 30\n",
       "\n",
       "$method\n",
       "[1] \"Cosine\"\n",
       "\n",
       "$normalize\n",
       "[1] \"center\"\n",
       "\n",
       "$normalize_sim_matrix\n",
       "[1] FALSE\n",
       "\n",
       "$alpha\n",
       "[1] 0.5\n",
       "\n",
       "$na_as_zero\n",
       "[1] FALSE\n"
      ]
     },
     "metadata": {},
     "output_type": "display_data"
    }
   ],
   "source": [
    "# Identify the k most similar items and store their number with the default cosine method\n",
    "recommendation_system <- recommenderRegistry$get_entries(dataType =\"realRatingMatrix\")\n",
    "recommendation_system$IBCF_realRatingMatrix$parameters"
   ]
  },
  {
   "cell_type": "code",
   "execution_count": 23,
   "id": "d3e28ee8",
   "metadata": {},
   "outputs": [],
   "source": [
    "recommen_model <- Recommender(data = training_data, method = \"IBCF\", parameter = list(k = 30))"
   ]
  },
  {
   "cell_type": "code",
   "execution_count": 24,
   "id": "11c090d5",
   "metadata": {},
   "outputs": [
    {
     "data": {
      "image/png": "[encoded data removed]",
      "text/plain": [
       "plot without title"
      ]
     },
     "metadata": {},
     "output_type": "display_data"
    }
   ],
   "source": [
    "# getModel() to retreive the recommen_model and generate a heatmap\n",
    "model_info <- getModel(recommen_model)\n",
    "top_items <- 20\n",
    "image(model_info$sim[1:top_items, 1:top_items], main = \"Heatmap of the first rows and columns\")"
   ]
  },
  {
   "cell_type": "code",
   "execution_count": 25,
   "id": "b32c01b4",
   "metadata": {},
   "outputs": [
    {
     "data": {
      "text/plain": [
       "sum_rows\n",
       " 30 \n",
       "436 "
      ]
     },
     "metadata": {},
     "output_type": "display_data"
    },
    {
     "name": "stderr",
     "output_type": "stream",
     "text": [
      "`stat_bin()` using `bins = 30`. Pick better value with `binwidth`.\n"
     ]
    },
    {
     "data": {
      "image/png": "[encoded data removed]",
      "text/plain": [
       "plot without title"
      ]
     },
     "metadata": {},
     "output_type": "display_data"
    }
   ],
   "source": [
    "# Carry out the sum of rows and columns with the similarity of the objects above 0 and visualize the sum of the columns through a distribution\n",
    "sum_rows <- rowSums(model_info$sim > 0)\n",
    "table(sum_rows)\n",
    "sum_cols <- colSums(model_info$sim > 0)\n",
    "qplot(sum_cols, fill=I(\"steelblue\"), col=I(\"red\"))+ ggtitle(\"Distribution of the column count\")\n"
   ]
  },
  {
   "cell_type": "code",
   "execution_count": 26,
   "id": "ebbd4df7",
   "metadata": {},
   "outputs": [
    {
     "data": {
      "text/plain": [
       "Recommendations as 'topNList' with n = 10 for 75 users. "
      ]
     },
     "metadata": {},
     "output_type": "display_data"
    }
   ],
   "source": [
    "# Create top_recommendations variable to initialize to 10 specifying the number of films to each user and use predict() to identify similar items and rank tham appropriately\n",
    "top_recommendations <- 10 # the number of films to recommend to each user\n",
    "predicted_recommendations <- predict(object = recommen_model, newdata = testing_data, n = top_recommendations)\n",
    "predicted_recommendations"
   ]
  },
  {
   "cell_type": "code",
   "execution_count": 27,
   "id": "2e9f0f1f",
   "metadata": {},
   "outputs": [
    {
     "data": {
      "text/html": [
       "<ol class=list-inline>\n",
       "\t<li>'Few Good Men, A (1992)'</li>\n",
       "\t<li>'40-Year-Old Virgin, The (2005)'</li>\n",
       "\t<li>'Top Gun (1986)'</li>\n",
       "\t<li>'Borat: Cultural Learnings of America for Make Benefit Glorious Nation of Kazakhstan (2006)'</li>\n",
       "\t<li>'Bourne Supremacy, The (2004)'</li>\n",
       "\t<li>'Blow (2001)'</li>\n",
       "\t<li>'School of Rock (2003)'</li>\n",
       "\t<li>'Mystic River (2003)'</li>\n",
       "\t<li>'Knocked Up (2007)'</li>\n",
       "\t<li>'Beauty and the Beast (1991)'</li>\n",
       "</ol>\n"
      ],
      "text/latex": [
       "\\begin{enumerate*}\n",
       "\\item 'Few Good Men, A (1992)'\n",
       "\\item '40-Year-Old Virgin, The (2005)'\n",
       "\\item 'Top Gun (1986)'\n",
       "\\item 'Borat: Cultural Learnings of America for Make Benefit Glorious Nation of Kazakhstan (2006)'\n",
       "\\item 'Bourne Supremacy, The (2004)'\n",
       "\\item 'Blow (2001)'\n",
       "\\item 'School of Rock (2003)'\n",
       "\\item 'Mystic River (2003)'\n",
       "\\item 'Knocked Up (2007)'\n",
       "\\item 'Beauty and the Beast (1991)'\n",
       "\\end{enumerate*}\n"
      ],
      "text/markdown": [
       "1. 'Few Good Men, A (1992)'\n",
       "2. '40-Year-Old Virgin, The (2005)'\n",
       "3. 'Top Gun (1986)'\n",
       "4. 'Borat: Cultural Learnings of America for Make Benefit Glorious Nation of Kazakhstan (2006)'\n",
       "5. 'Bourne Supremacy, The (2004)'\n",
       "6. 'Blow (2001)'\n",
       "7. 'School of Rock (2003)'\n",
       "8. 'Mystic River (2003)'\n",
       "9. 'Knocked Up (2007)'\n",
       "10. 'Beauty and the Beast (1991)'\n",
       "\n",
       "\n"
      ],
      "text/plain": [
       " [1] \"Few Good Men, A (1992)\"                                                                    \n",
       " [2] \"40-Year-Old Virgin, The (2005)\"                                                            \n",
       " [3] \"Top Gun (1986)\"                                                                            \n",
       " [4] \"Borat: Cultural Learnings of America for Make Benefit Glorious Nation of Kazakhstan (2006)\"\n",
       " [5] \"Bourne Supremacy, The (2004)\"                                                              \n",
       " [6] \"Blow (2001)\"                                                                               \n",
       " [7] \"School of Rock (2003)\"                                                                     \n",
       " [8] \"Mystic River (2003)\"                                                                       \n",
       " [9] \"Knocked Up (2007)\"                                                                         \n",
       "[10] \"Beauty and the Beast (1991)\"                                                               "
      ]
     },
     "metadata": {},
     "output_type": "display_data"
    }
   ],
   "source": [
    "user1 <- predicted_recommendations@items[[1]] # recommendation for the first user\n",
    "movies_user1 <- predicted_recommendations@itemLabels[user1] # list of movies\n",
    "movies_user2 <- movies_user1\n",
    "for (index in 1:10){\n",
    "  movies_user2[index] <- as.character(subset(movie_data, movie_data$movieId == movies_user1[index])$title)\n",
    "}\n",
    "movies_user2"
   ]
  },
  {
   "cell_type": "code",
   "execution_count": null,
   "id": "c70fd869",
   "metadata": {},
   "outputs": [],
   "source": []
  },
  {
   "cell_type": "markdown",
   "id": "669983d4",
   "metadata": {},
   "source": [
    "## References\n",
    "## 1. Data Flair. (2019, July 31). Machine learning project - data science movie recommendation system project in R. DataFlair. Retrieved May 19, 2022, from https://data-flair.training/blogs/data-science-r-movie-recommendation/ "
   ]
  },
  {
   "cell_type": "code",
   "execution_count": null,
   "id": "acf4f5d3",
   "metadata": {},
   "outputs": [],
   "source": []
  }
 ],
 "metadata": {
  "kernelspec": {
   "display_name": "R",
   "language": "R",
   "name": "ir"
  },
  "language_info": {
   "codemirror_mode": "r",
   "file_extension": ".r",
   "mimetype": "text/x-r-source",
   "name": "R",
   "pygments_lexer": "r",
   "version": "3.6.1"
  }
 },
 "nbformat": 4,
 "nbformat_minor": 5
}
