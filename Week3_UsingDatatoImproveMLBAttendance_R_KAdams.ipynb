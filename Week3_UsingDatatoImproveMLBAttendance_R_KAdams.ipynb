{
 "cells": [
  {
   "cell_type": "markdown",
   "id": "4f090a0d",
   "metadata": {},
   "source": [
    "# Assignment 3.2 (R programming)"
   ]
  },
  {
   "cell_type": "markdown",
   "id": "e8d7ab60",
   "metadata": {},
   "source": [
    "### In this assignment, you will be using data on the Los Angeles Dodgers Major League Baseball (MLB) team located here: dodgers.csv. \n",
    "### Use this data to make a recommendation to management on how to improve attendance. Tell a story with your analysis and clearly explain the steps you take to arrive at your conclusion. \n",
    "### This is an open-ended question, and there is no one right answer. You are welcome to do additional research and/or use domain knowledge to assist your analysis, but clearly state any assumptions you make.\n",
    "### You can use R or Python to complete this assignment. Submit your code and output to the submission link. Make sure to add comments to all of your code and to document your steps, process, and analysis."
   ]
  },
  {
   "cell_type": "code",
   "execution_count": 2,
   "id": "a272f822",
   "metadata": {},
   "outputs": [
    {
     "name": "stderr",
     "output_type": "stream",
     "text": [
      "Installing package into 'C:/Users/kadams/OneDrive - Suncor Energy Inc/Documents 1/R/win-library/3.6'\n",
      "(as 'lib' is unspecified)\n"
     ]
    },
    {
     "name": "stdout",
     "output_type": "stream",
     "text": [
      "\n",
      "  There is a binary version available but the source version is later:\n",
      "     binary source needs_compilation\n",
      "MASS 7.3-54 7.3-56              TRUE\n",
      "\n",
      "  Binaries will be installed\n",
      "package 'MASS' successfully unpacked and MD5 sums checked\n",
      "\n",
      "The downloaded binary packages are in\n",
      "\tC:\\Users\\kadams\\AppData\\Local\\Temp\\Rtmp4AlWbc\\downloaded_packages\n"
     ]
    },
    {
     "name": "stderr",
     "output_type": "stream",
     "text": [
      "Installing package into 'C:/Users/kadams/OneDrive - Suncor Energy Inc/Documents 1/R/win-library/3.6'\n",
      "(as 'lib' is unspecified)\n",
      "also installing the dependencies 'lattice', 'nlme', 'Matrix', 'mgcv'\n",
      "\n"
     ]
    },
    {
     "name": "stdout",
     "output_type": "stream",
     "text": [
      "\n",
      "  There are binary versions available but the source versions are later:\n",
      "         binary  source needs_compilation\n",
      "lattice 0.20-44 0.20-45              TRUE\n",
      "nlme    3.1-152 3.1-157              TRUE\n",
      "Matrix    1.3-3   1.4-1              TRUE\n",
      "mgcv     1.8-35  1.8-40              TRUE\n",
      "ggplot2   3.3.3   3.3.5             FALSE\n",
      "\n",
      "  Binaries will be installed\n",
      "package 'lattice' successfully unpacked and MD5 sums checked\n",
      "package 'nlme' successfully unpacked and MD5 sums checked\n",
      "package 'Matrix' successfully unpacked and MD5 sums checked\n",
      "package 'mgcv' successfully unpacked and MD5 sums checked\n",
      "\n",
      "The downloaded binary packages are in\n",
      "\tC:\\Users\\kadams\\AppData\\Local\\Temp\\Rtmp4AlWbc\\downloaded_packages\n"
     ]
    },
    {
     "name": "stderr",
     "output_type": "stream",
     "text": [
      "installing the source package 'ggplot2'\n",
      "\n"
     ]
    }
   ],
   "source": [
    "# install packages\n",
    "install.packages(\"MASS\")\n",
    "install.packages(\"ggplot2\")"
   ]
  },
  {
   "cell_type": "markdown",
   "id": "cb985233",
   "metadata": {},
   "source": [
    "## Approach: The Akaike information criterion (AIC) is a metric that is used to compare the fit of different regression models. It is used to mathmatically evaluate how well the model fits the data. Lowest AIC is the best model. \n",
    "## R will be used to evaluate AIC as R provides a summary of all AIC values in 1 output, where Python does not have this summary (or at least not one that I could find online). In Python you have to input all feature combinations manually and compare the AIC values to each other. "
   ]
  },
  {
   "cell_type": "code",
   "execution_count": 10,
   "id": "0abf55be",
   "metadata": {},
   "outputs": [],
   "source": [
    "# set seed to random number, 42\n",
    "set.seed(42)"
   ]
  },
  {
   "cell_type": "code",
   "execution_count": 11,
   "id": "6ff598ce",
   "metadata": {},
   "outputs": [
    {
     "name": "stdout",
     "output_type": "stream",
     "text": [
      "Start:  AIC=1433.33\n",
      "attend ~ month + day + day_of_week + opponent + temp + skies + \n",
      "    day_night + cap + shirt + fireworks + bobblehead\n",
      "\n",
      "              Df Sum of Sq        RSS    AIC\n",
      "- opponent    16 482404341 2055399107 1423.0\n",
      "- month        6 107253092 1680247858 1426.7\n",
      "- temp         1     48765 1573043531 1431.3\n",
      "- skies        1     73327 1573068093 1431.3\n",
      "- shirt        1   1648173 1574642938 1431.4\n",
      "- day          1  31985882 1604980647 1433.0\n",
      "- day_night    1  34516507 1607511273 1433.1\n",
      "<none>                     1572994766 1433.3\n",
      "- cap          1  44252037 1617246803 1433.6\n",
      "- fireworks    1 208621672 1781616438 1441.4\n",
      "- bobblehead   1 305478664 1878473429 1445.7\n",
      "- day_of_week  6 622226954 2195221720 1448.3\n",
      "\n",
      "Step:  AIC=1422.99\n",
      "attend ~ month + day + day_of_week + temp + skies + day_night + \n",
      "    cap + shirt + fireworks + bobblehead\n",
      "\n",
      "              Df Sum of Sq        RSS    AIC\n",
      "- day_night    1   1939503 2057338610 1421.1\n",
      "- skies        1   3025454 2058424560 1421.1\n",
      "- temp         1  18990413 2074389520 1421.7\n",
      "- day          1  28387321 2083786427 1422.1\n",
      "<none>                     2055399107 1423.0\n",
      "- cap          1  60563235 2115962342 1423.3\n",
      "- shirt        1  83891144 2139290251 1424.2\n",
      "- month        6 484099010 2539498117 1428.1\n",
      "- fireworks    1 197806771 2253205878 1428.4\n",
      "- day_of_week  6 663720865 2719119972 1433.7\n",
      "- bobblehead   1 574485229 2629884336 1441.0\n",
      "\n",
      "Step:  AIC=1421.07\n",
      "attend ~ month + day + day_of_week + temp + skies + cap + shirt + \n",
      "    fireworks + bobblehead\n",
      "\n",
      "              Df Sum of Sq        RSS    AIC\n",
      "- skies        1   3091785 2060430395 1419.2\n",
      "- temp         1  24263844 2081602454 1420.0\n",
      "- day          1  28120244 2085458854 1420.2\n",
      "<none>                     2057338610 1421.1\n",
      "- cap          1  61589936 2118928546 1421.5\n",
      "- shirt        1  82681702 2140020311 1422.3\n",
      "- fireworks    1 196113155 2253451764 1426.4\n",
      "- month        6 540707943 2598046553 1428.0\n",
      "- day_of_week  6 733147115 2790485724 1433.8\n",
      "- bobblehead   1 627860542 2685199152 1440.6\n",
      "\n",
      "Step:  AIC=1419.19\n",
      "attend ~ month + day + day_of_week + temp + cap + shirt + fireworks + \n",
      "    bobblehead\n",
      "\n",
      "              Df Sum of Sq        RSS    AIC\n",
      "- day          1  30394696 2090825091 1418.4\n",
      "- temp         1  35300686 2095731080 1418.6\n",
      "<none>                     2060430395 1419.2\n",
      "- cap          1  69611450 2130041845 1419.9\n",
      "- shirt        1  89066301 2149496696 1420.6\n",
      "- fireworks    1 212995729 2273426124 1425.2\n",
      "- month        6 557853596 2618283991 1426.6\n",
      "- day_of_week  6 742897542 2803327936 1432.1\n",
      "- bobblehead   1 625482393 2685912788 1438.7\n",
      "\n",
      "Step:  AIC=1418.38\n",
      "attend ~ month + day_of_week + temp + cap + shirt + fireworks + \n",
      "    bobblehead\n",
      "\n",
      "              Df Sum of Sq        RSS    AIC\n",
      "- temp         1  21642127 2112467217 1417.2\n",
      "<none>                     2090825091 1418.4\n",
      "- cap          1  54908713 2145733804 1418.5\n",
      "- shirt        1  90079538 2180904629 1419.8\n",
      "- fireworks    1 231720432 2322545523 1424.9\n",
      "- month        6 541557658 2632382748 1425.0\n",
      "- day_of_week  6 765145220 2855970311 1431.6\n",
      "- bobblehead   1 615401407 2706226498 1437.3\n",
      "\n",
      "Step:  AIC=1417.21\n",
      "attend ~ month + day_of_week + cap + shirt + fireworks + bobblehead\n",
      "\n",
      "              Df Sum of Sq        RSS    AIC\n",
      "<none>                     2112467217 1417.2\n",
      "- cap          1  55325426 2167792643 1417.3\n",
      "- shirt        1  88943911 2201411129 1418.5\n",
      "- fireworks    1 223427284 2335894502 1423.3\n",
      "- month        6 549143913 2661611130 1423.9\n",
      "- day_of_week  6 800793351 2913260569 1431.2\n",
      "- bobblehead   1 686366179 2798833397 1438.0\n"
     ]
    },
    {
     "data": {
      "text/plain": [
       "\n",
       "Call:\n",
       "lm(formula = attend ~ month + day_of_week + cap + shirt + fireworks + \n",
       "    bobblehead, data = dodgers)\n",
       "\n",
       "Coefficients:\n",
       "         (Intercept)              monthAUG              monthJUL  \n",
       "             22232.8                3341.1                2564.3  \n",
       "            monthJUN              monthMAY              monthOCT  \n",
       "              6933.4               -1924.8                 221.8  \n",
       "            monthSEP     day_of_weekMonday   day_of_weekSaturday  \n",
       "              -102.9               10931.4               17884.0  \n",
       "   day_of_weekSunday   day_of_weekThursday    day_of_weekTuesday  \n",
       "             18225.2               12245.2               19352.0  \n",
       "day_of_weekWednesday                capYES              shirtYES  \n",
       "             12463.7               -5784.6                5964.5  \n",
       "        fireworksYES         bobbleheadYES  \n",
       "             16309.2               10700.1  \n"
      ]
     },
     "metadata": {},
     "output_type": "display_data"
    }
   ],
   "source": [
    "# import csv file to variable dodgers\n",
    "dodgers<-read.csv(\"dodgers-2022.csv\", header=TRUE)\n",
    "# create linear resression model using dodgers variable with attend as target variable against all features\n",
    "dodgers.full<-lm(attend~., data=dodgers)\n",
    "# use the MASS library\n",
    "library(MASS)\n",
    "# perform stepwise model selection by AIC\n",
    "stepAIC(dodgers.full)"
   ]
  },
  {
   "cell_type": "markdown",
   "id": "5d4417ee",
   "metadata": {},
   "source": [
    "### Result: Lowest AIC=1417.21. Attendance is best explained by the features cap, shirt, fireworks, month, day of the week, and bobblehead. "
   ]
  },
  {
   "cell_type": "code",
   "execution_count": 12,
   "id": "6bfca800",
   "metadata": {},
   "outputs": [
    {
     "data": {
      "text/plain": [
       "\n",
       "Call:\n",
       "lm(formula = attend ~ month + day_of_week + cap + shirt + fireworks + \n",
       "    bobblehead, data = dodgers)\n",
       "\n",
       "Residuals:\n",
       "   Min     1Q Median     3Q    Max \n",
       " -8748  -3846   -602   2435  15966 \n",
       "\n",
       "Coefficients:\n",
       "                     Estimate Std. Error t value Pr(>|t|)    \n",
       "(Intercept)           22232.8     6583.3   3.377  0.00125 ** \n",
       "monthAUG               3341.1     2304.3   1.450  0.15196    \n",
       "monthJUL               2564.3     2555.9   1.003  0.31951    \n",
       "monthJUN               6933.4     2573.8   2.694  0.00901 ** \n",
       "monthMAY              -1924.8     2175.8  -0.885  0.37966    \n",
       "monthOCT                221.8     3825.9   0.058  0.95395    \n",
       "monthSEP               -102.9     2367.3  -0.043  0.96545    \n",
       "day_of_weekMonday     10931.4     6802.8   1.607  0.11300    \n",
       "day_of_weekSaturday   17884.0     6658.4   2.686  0.00920 ** \n",
       "day_of_weekSunday     18225.2     6712.9   2.715  0.00851 ** \n",
       "day_of_weekThursday   12245.2     6947.4   1.763  0.08275 .  \n",
       "day_of_weekTuesday    19352.0     6811.9   2.841  0.00603 ** \n",
       "day_of_weekWednesday  12463.7     6241.5   1.997  0.05009 .  \n",
       "capYES                -5784.6     4468.0  -1.295  0.20009    \n",
       "shirtYES               5964.5     3633.5   1.642  0.10559    \n",
       "fireworksYES          16309.2     6268.6   2.602  0.01151 *  \n",
       "bobbleheadYES         10700.1     2346.5   4.560 2.37e-05 ***\n",
       "---\n",
       "Signif. codes:  0 '***' 0.001 '**' 0.01 '*' 0.05 '.' 0.1 ' ' 1\n",
       "\n",
       "Residual standard error: 5745 on 64 degrees of freedom\n",
       "Multiple R-squared:  0.6165,\tAdjusted R-squared:  0.5206 \n",
       "F-statistic: 6.429 on 16 and 64 DF,  p-value: 2.87e-08\n"
      ]
     },
     "metadata": {},
     "output_type": "display_data"
    }
   ],
   "source": [
    "# create a linear model using the features from the lowest AIC value: cap, shirt, fireworks, month, day of the week, and bobblehead. \n",
    "selected.model<-lm(formula = attend ~ month + day_of_week + cap + shirt + fireworks + bobblehead, data = dodgers)\n",
    "# print the summary of the selected.model\n",
    "summary(selected.model)"
   ]
  },
  {
   "cell_type": "markdown",
   "id": "7e387505",
   "metadata": {},
   "source": [
    "### Results: The Estimate values measure how the features impact attendance. For example, games in the month of August increase attendance by 3341, where games in the month of May decrease by 1924. Pr values are probability, and anything under 0.05 is a good indicator that the estimate value is accurate. \n",
    "### Findings: These features all have Pr scores under 0.05 and are therefore their estimates are most likely fairly accurate:\n",
    "$\\bullet$ Games in the month of June<br>\n",
    "$\\bullet$ Game days on Saturday, Sunday, Tuesday, Wednesday<br>\n",
    "$\\bullet$ Games with Fireworks <br>\n",
    "$\\bullet$ Games with free bobbleheads<br>\n",
    "### Findings in Comparison to Correlation Matrix: The correlation matrix found that attendance is highly postively correlated to: \n",
    "$\\bullet$ The months of June, July & August <br>\n",
    "$\\bullet$ Tuesday & Saturday games <br>\n",
    "$\\bullet$ Games against the Angels, Cubs, Mets, Nationals & White Sox <br>\n",
    "$\\bullet$ Games on clear sky days <br>\n",
    "$\\bullet$ Game days when free shirts are given out <br>\n",
    "### A highly negatively correlated to: \n",
    "$\\bullet$ the months of April, May, September & October<br>\n",
    "$\\bullet$ Wednesday & Monday games<br>\n",
    "$\\bullet$ games against the Astros, Braves, Bruins, Pirates, Rockies & Snakes<br>\n",
    "$\\bullet$ games on cloudy days<br>\n",
    "$\\bullet$ game days when no free shirts are given out. <br>\n",
    "### The differences between the correlated features and features with a low Pr score are related to an age old term: Correlation is not causation. Just because something is correlated doesn't mean it is statistically significant."
   ]
  },
  {
   "cell_type": "markdown",
   "id": "bfe7126c",
   "metadata": {},
   "source": [
    "### Recommendations for the Dodgers to increase attendance using AIC instead of the Correlation Matrix: \n",
    "$\\bullet$ Games played in June tend to increase attendance. The recommendation is for the Dodgers to schedule more games in this month.  <br>\n",
    "$\\bullet$ Games played on Saturdays, Sundays, and Tuesdays tend to increase attendance, with Tuesdays with the most attendance increase estimated. The recommendation is for the Dodgers to schedule more games on these days. <br>\n",
    "$\\bullet$ Games with a fireworks show and games where free bobbleheads are given out tend to increase attendance, with fireworks having the most attendance increase estimated. The recommendation is for the Dodgers to include more events on game days. <br>"
   ]
  },
  {
   "cell_type": "code",
   "execution_count": null,
   "id": "486557d4",
   "metadata": {},
   "outputs": [],
   "source": []
  }
 ],
 "metadata": {
  "kernelspec": {
   "display_name": "R",
   "language": "R",
   "name": "ir"
  },
  "language_info": {
   "codemirror_mode": "r",
   "file_extension": ".r",
   "mimetype": "text/x-r-source",
   "name": "R",
   "pygments_lexer": "r",
   "version": "3.6.1"
  }
 },
 "nbformat": 4,
 "nbformat_minor": 5
}
